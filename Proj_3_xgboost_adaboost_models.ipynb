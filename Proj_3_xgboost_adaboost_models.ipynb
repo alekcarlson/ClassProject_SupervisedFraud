{
 "cells": [
  {
   "cell_type": "code",
   "execution_count": null,
   "metadata": {},
   "outputs": [],
   "source": [
    "# import xgboost\n",
    "# print(\"xgboost\", xgboost.__version__)\n"
   ]
  },
  {
   "cell_type": "code",
   "execution_count": 2,
   "metadata": {},
   "outputs": [],
   "source": [
    "import pandas as pd\n",
    "import numpy as np\n",
    "import matplotlib.pyplot as plt\n",
    "import seaborn as sns\n",
    "import datetime as dt\n",
    "from sklearn.model_selection import train_test_split\n",
    "from sklearn.datasets import make_classification\n",
    "from sklearn.model_selection import GridSearchCV\n",
    "from sklearn.model_selection import RepeatedStratifiedKFold\n",
    "from xgboost import XGBClassifier"
   ]
  },
  {
   "cell_type": "code",
   "execution_count": 33,
   "metadata": {},
   "outputs": [
    {
     "data": {
      "text/html": [
       "<div>\n",
       "<style scoped>\n",
       "    .dataframe tbody tr th:only-of-type {\n",
       "        vertical-align: middle;\n",
       "    }\n",
       "\n",
       "    .dataframe tbody tr th {\n",
       "        vertical-align: top;\n",
       "    }\n",
       "\n",
       "    .dataframe thead th {\n",
       "        text-align: right;\n",
       "    }\n",
       "</style>\n",
       "<table border=\"1\" class=\"dataframe\">\n",
       "  <thead>\n",
       "    <tr style=\"text-align: right;\">\n",
       "      <th></th>\n",
       "      <th>Recnum</th>\n",
       "      <th>Cardnum</th>\n",
       "      <th>Date</th>\n",
       "      <th>Merchnum</th>\n",
       "      <th>Merchdescription</th>\n",
       "      <th>Merchstate</th>\n",
       "      <th>Merchzip</th>\n",
       "      <th>Transtype</th>\n",
       "      <th>Amount</th>\n",
       "      <th>Fraud</th>\n",
       "      <th>...</th>\n",
       "      <th>card_state_mean_030</th>\n",
       "      <th>card_state_total_030</th>\n",
       "      <th>card_state_mean_13</th>\n",
       "      <th>card_state_total_13</th>\n",
       "      <th>card_state_mean_17</th>\n",
       "      <th>card_state_total_17</th>\n",
       "      <th>card_state_mean_114</th>\n",
       "      <th>card_state_total_114</th>\n",
       "      <th>card_state_mean_130</th>\n",
       "      <th>card_state_total_130</th>\n",
       "    </tr>\n",
       "  </thead>\n",
       "  <tbody>\n",
       "    <tr>\n",
       "      <th>0</th>\n",
       "      <td>1</td>\n",
       "      <td>5142190439</td>\n",
       "      <td>2010-01-01</td>\n",
       "      <td>5509006296254</td>\n",
       "      <td>FEDEX SHP 12/23/09 AB#</td>\n",
       "      <td>TN</td>\n",
       "      <td>38118.0</td>\n",
       "      <td>P</td>\n",
       "      <td>3.62</td>\n",
       "      <td>0</td>\n",
       "      <td>...</td>\n",
       "      <td>NaN</td>\n",
       "      <td>NaN</td>\n",
       "      <td>NaN</td>\n",
       "      <td>NaN</td>\n",
       "      <td>NaN</td>\n",
       "      <td>NaN</td>\n",
       "      <td>NaN</td>\n",
       "      <td>NaN</td>\n",
       "      <td>NaN</td>\n",
       "      <td>NaN</td>\n",
       "    </tr>\n",
       "    <tr>\n",
       "      <th>1</th>\n",
       "      <td>2</td>\n",
       "      <td>5142183973</td>\n",
       "      <td>2010-01-01</td>\n",
       "      <td>61003026333</td>\n",
       "      <td>SERVICE MERCHANDISE #81</td>\n",
       "      <td>MA</td>\n",
       "      <td>1803.0</td>\n",
       "      <td>P</td>\n",
       "      <td>31.42</td>\n",
       "      <td>0</td>\n",
       "      <td>...</td>\n",
       "      <td>NaN</td>\n",
       "      <td>NaN</td>\n",
       "      <td>NaN</td>\n",
       "      <td>NaN</td>\n",
       "      <td>NaN</td>\n",
       "      <td>NaN</td>\n",
       "      <td>NaN</td>\n",
       "      <td>NaN</td>\n",
       "      <td>NaN</td>\n",
       "      <td>NaN</td>\n",
       "    </tr>\n",
       "    <tr>\n",
       "      <th>2</th>\n",
       "      <td>3</td>\n",
       "      <td>5142131721</td>\n",
       "      <td>2010-01-01</td>\n",
       "      <td>4503082993600</td>\n",
       "      <td>OFFICE DEPOT #191</td>\n",
       "      <td>MD</td>\n",
       "      <td>20706.0</td>\n",
       "      <td>P</td>\n",
       "      <td>178.49</td>\n",
       "      <td>0</td>\n",
       "      <td>...</td>\n",
       "      <td>NaN</td>\n",
       "      <td>NaN</td>\n",
       "      <td>NaN</td>\n",
       "      <td>NaN</td>\n",
       "      <td>NaN</td>\n",
       "      <td>NaN</td>\n",
       "      <td>NaN</td>\n",
       "      <td>NaN</td>\n",
       "      <td>NaN</td>\n",
       "      <td>NaN</td>\n",
       "    </tr>\n",
       "    <tr>\n",
       "      <th>3</th>\n",
       "      <td>4</td>\n",
       "      <td>5142148452</td>\n",
       "      <td>2010-01-01</td>\n",
       "      <td>5509006296254</td>\n",
       "      <td>FEDEX SHP 12/28/09 AB#</td>\n",
       "      <td>TN</td>\n",
       "      <td>38118.0</td>\n",
       "      <td>P</td>\n",
       "      <td>3.62</td>\n",
       "      <td>0</td>\n",
       "      <td>...</td>\n",
       "      <td>NaN</td>\n",
       "      <td>NaN</td>\n",
       "      <td>NaN</td>\n",
       "      <td>NaN</td>\n",
       "      <td>NaN</td>\n",
       "      <td>NaN</td>\n",
       "      <td>NaN</td>\n",
       "      <td>NaN</td>\n",
       "      <td>NaN</td>\n",
       "      <td>NaN</td>\n",
       "    </tr>\n",
       "    <tr>\n",
       "      <th>4</th>\n",
       "      <td>5</td>\n",
       "      <td>5142190439</td>\n",
       "      <td>2010-01-01</td>\n",
       "      <td>5509006296254</td>\n",
       "      <td>FEDEX SHP 12/23/09 AB#</td>\n",
       "      <td>TN</td>\n",
       "      <td>38118.0</td>\n",
       "      <td>P</td>\n",
       "      <td>3.62</td>\n",
       "      <td>0</td>\n",
       "      <td>...</td>\n",
       "      <td>30.0</td>\n",
       "      <td>30.0</td>\n",
       "      <td>3.0</td>\n",
       "      <td>3.0</td>\n",
       "      <td>7.0</td>\n",
       "      <td>7.0</td>\n",
       "      <td>14.0</td>\n",
       "      <td>14.0</td>\n",
       "      <td>30.0</td>\n",
       "      <td>30.0</td>\n",
       "    </tr>\n",
       "  </tbody>\n",
       "</table>\n",
       "<p>5 rows × 409 columns</p>\n",
       "</div>"
      ],
      "text/plain": [
       "   Recnum     Cardnum        Date       Merchnum         Merchdescription  \\\n",
       "0       1  5142190439  2010-01-01  5509006296254   FEDEX SHP 12/23/09 AB#   \n",
       "1       2  5142183973  2010-01-01    61003026333  SERVICE MERCHANDISE #81   \n",
       "2       3  5142131721  2010-01-01  4503082993600        OFFICE DEPOT #191   \n",
       "3       4  5142148452  2010-01-01  5509006296254   FEDEX SHP 12/28/09 AB#   \n",
       "4       5  5142190439  2010-01-01  5509006296254   FEDEX SHP 12/23/09 AB#   \n",
       "\n",
       "  Merchstate  Merchzip Transtype  Amount  Fraud  ...  card_state_mean_030  \\\n",
       "0         TN   38118.0         P    3.62      0  ...                  NaN   \n",
       "1         MA    1803.0         P   31.42      0  ...                  NaN   \n",
       "2         MD   20706.0         P  178.49      0  ...                  NaN   \n",
       "3         TN   38118.0         P    3.62      0  ...                  NaN   \n",
       "4         TN   38118.0         P    3.62      0  ...                 30.0   \n",
       "\n",
       "  card_state_total_030  card_state_mean_13 card_state_total_13  \\\n",
       "0                  NaN                 NaN                 NaN   \n",
       "1                  NaN                 NaN                 NaN   \n",
       "2                  NaN                 NaN                 NaN   \n",
       "3                  NaN                 NaN                 NaN   \n",
       "4                 30.0                 3.0                 3.0   \n",
       "\n",
       "   card_state_mean_17  card_state_total_17  card_state_mean_114  \\\n",
       "0                 NaN                  NaN                  NaN   \n",
       "1                 NaN                  NaN                  NaN   \n",
       "2                 NaN                  NaN                  NaN   \n",
       "3                 NaN                  NaN                  NaN   \n",
       "4                 7.0                  7.0                 14.0   \n",
       "\n",
       "   card_state_total_114  card_state_mean_130  card_state_total_130  \n",
       "0                   NaN                  NaN                   NaN  \n",
       "1                   NaN                  NaN                   NaN  \n",
       "2                   NaN                  NaN                   NaN  \n",
       "3                   NaN                  NaN                   NaN  \n",
       "4                  14.0                 30.0                  30.0  \n",
       "\n",
       "[5 rows x 409 columns]"
      ]
     },
     "execution_count": 33,
     "metadata": {},
     "output_type": "execute_result"
    }
   ],
   "source": [
    "data=pd.read_csv('card_transactions_all_features.csv')\n",
    "data.head()"
   ]
  },
  {
   "cell_type": "code",
   "execution_count": 34,
   "metadata": {},
   "outputs": [],
   "source": [
    "##exclude test data and few initial columns\n",
    "data_mod=data[(data.Date>'2010-01-14')].reset_index(drop=True)"
   ]
  },
  {
   "cell_type": "code",
   "execution_count": 35,
   "metadata": {},
   "outputs": [],
   "source": [
    "data_mod.drop(columns=['Recnum','Cardnum','Merchnum','Merchdescription','Merchstate','Merchzip',\\\n",
    "                     'Transtype','Amount','card_merchant','card_zip','card_state','dow_risk'],inplace=True)"
   ]
  },
  {
   "cell_type": "code",
   "execution_count": 36,
   "metadata": {},
   "outputs": [
    {
     "name": "stderr",
     "output_type": "stream",
     "text": [
      "/Users/sharathreddy/Programs/anaconda3/lib/python3.8/site-packages/pandas/core/frame.py:4163: SettingWithCopyWarning: \n",
      "A value is trying to be set on a copy of a slice from a DataFrame\n",
      "\n",
      "See the caveats in the documentation: https://pandas.pydata.org/pandas-docs/stable/user_guide/indexing.html#returning-a-view-versus-a-copy\n",
      "  return super().drop(\n"
     ]
    }
   ],
   "source": [
    "train_test=data_mod[data_mod.Date<'2010-11-01']\n",
    "fraud_train_test=train_test['Fraud']\n",
    "train_test.drop(columns=['Date','Fraud'],inplace=True)\n",
    "OOT=data_mod[data_mod.Date>='2010-11-01']\n",
    "fraud_oot=OOT['Fraud']\n",
    "OOT.drop(columns=['Date','Fraud'],inplace=True)\n"
   ]
  },
  {
   "cell_type": "code",
   "execution_count": 37,
   "metadata": {},
   "outputs": [],
   "source": [
    "train_test=train_test.fillna(0)\n",
    "OOT=OOT.fillna(0)"
   ]
  },
  {
   "cell_type": "code",
   "execution_count": 38,
   "metadata": {},
   "outputs": [],
   "source": [
    "from sklearn.preprocessing import StandardScaler\n",
    "sc=StandardScaler()\n",
    "train_test_zs = sc.fit_transform(train_test)\n",
    "OOT_zs=sc.transform(OOT)"
   ]
  },
  {
   "cell_type": "code",
   "execution_count": 39,
   "metadata": {},
   "outputs": [],
   "source": [
    "train_test_zs_final = pd.DataFrame(train_test_zs, columns = train_test.columns)\n",
    "train_test_zs_final['Fraud']=fraud_train_test\n",
    "# train_test_zs_final=train_test_zs_final.fillna(0)\n",
    "OOT_zs_final = pd.DataFrame(OOT_zs, columns = OOT.columns)\n",
    "OOT_zs_final['Fraud']=fraud_oot\n",
    "# OOT_zs_final=OOT_zs_final.fillna(0)"
   ]
  },
  {
   "cell_type": "code",
   "execution_count": 40,
   "metadata": {},
   "outputs": [
    {
     "name": "stdout",
     "output_type": "stream",
     "text": [
      "train test zs final has 80632 rows 396 columns     \n",
      " OOT zs final has 12427rows and 396columns\n"
     ]
    }
   ],
   "source": [
    "print(f'train test zs final has {train_test_zs_final.shape[0]} rows {train_test_zs_final.shape[1]} columns \\\n",
    "    \\n OOT zs final has {OOT_zs_final.shape[0]}rows and {OOT_zs_final.shape[1]}columns')"
   ]
  },
  {
   "cell_type": "markdown",
   "metadata": {},
   "source": [
    "## Incorporating dataframe with only selected top 30 vars"
   ]
  },
  {
   "cell_type": "code",
   "execution_count": 41,
   "metadata": {},
   "outputs": [],
   "source": [
    "top_30_vars=pd.read_csv('Copy of top_30_vars_final.csv')"
   ]
  },
  {
   "cell_type": "code",
   "execution_count": 42,
   "metadata": {},
   "outputs": [],
   "source": [
    "ord_model_vars=top_30_vars[['sno_variable','var_name']]"
   ]
  },
  {
   "cell_type": "code",
   "execution_count": 43,
   "metadata": {},
   "outputs": [],
   "source": [
    "X_trntst=train_test_zs_final.loc[:,ord_model_vars['var_name']]\n",
    "Y_trntst=fraud_train_test\n",
    "OOT_final_x=OOT_zs_final.loc[:,ord_model_vars['var_name']]\n",
    "OOT_final_y=fraud_oot"
   ]
  },
  {
   "cell_type": "code",
   "execution_count": 44,
   "metadata": {},
   "outputs": [],
   "source": [
    "def fdr(classifier,x,y,cutoff=0.03):\n",
    "  '''calculates fdr for given classifier on dataset x and y with cutoff values'''\n",
    "  return fdr_prob(y,classifier.predict_proba(x),cutoff)\n",
    "\n",
    "def fdr_prob(y,y_prob,cutoff=0.03):\n",
    "  \"\"\"calculates FDR score using a prob list of predicted y\"\"\"\n",
    "  if len(y_prob.shape)!=1:\n",
    "    y_prob=y_prob[:,-1:]\n",
    "  num_fraud=len(y[y==1])\n",
    "  sorted_prob=np.asarray(sorted(zip(y_prob,y),key= lambda x:x[0],reverse=True))\n",
    "  cutoff_bin=sorted_prob[0:int(len(y)*cutoff),1:] ##3% cutoff\n",
    "  return len(cutoff_bin[cutoff_bin==1])/num_fraud"
   ]
  },
  {
   "cell_type": "code",
   "execution_count": 1,
   "metadata": {},
   "outputs": [],
   "source": [
    "# from sklearn.model_selection import KFold, GridSearchCV\n",
    "\n",
    "# search_space = [\n",
    "#   {\n",
    "#     'n_estimators': [50, 100, 150, 200,500,1000],\n",
    "#     'learning_rate': [0.001,0.01, 0.1, 0.2, 0.3],\n",
    "#     'max_depth': range(3, 10),\n",
    "#     'colsample_bytree': [i/10.0 for i in range(1, 3)],\n",
    "#     'gamma': [i/10.0 for i in range(3)]\n",
    "#   }\n",
    "# ]\n",
    "# kfold = KFold(n_splits=10, random_state=42)\n",
    "# grid = GridSearchCV(\n",
    "#   XGBClassifier(objective='binary:logistic'),\n",
    "#   param_grid=search_space,\n",
    "#   cv=kfold,\n",
    "#   scoring=fdr,\n",
    "#   verbose=1,\n",
    "#   n_jobs=-1\n",
    "# )\n",
    "# # Fit grid search\n",
    "# model = grid.fit(X_trntst,Y_trntst )"
   ]
  },
  {
   "cell_type": "code",
   "execution_count": 2,
   "metadata": {},
   "outputs": [],
   "source": [
    "# best_pars = grid.best_params_"
   ]
  },
  {
   "cell_type": "code",
   "execution_count": 3,
   "metadata": {},
   "outputs": [],
   "source": [
    "# best_pars"
   ]
  },
  {
   "cell_type": "code",
   "execution_count": 4,
   "metadata": {},
   "outputs": [],
   "source": [
    "# X_trntst"
   ]
  },
  {
   "cell_type": "code",
   "execution_count": 27,
   "metadata": {},
   "outputs": [],
   "source": [
    "# predictions=model.predict_proba(X_trntst.iloc[:,:32])[:,1]"
   ]
  },
  {
   "cell_type": "code",
   "execution_count": 28,
   "metadata": {},
   "outputs": [],
   "source": [
    "# # predictions=model.predict_proba(X_trntst)[:,1]\n",
    "# # FDR3=pd.DataFrame()\n",
    "# X_trntst['predicted']=predictions\n",
    "# X_trntst['Fraud']=Y_trntst\n",
    "# topRows=int(round(X_trntst.shape[0]*0.03))\n",
    "# temp=X_trntst.sort_values('predicted',ascending=False).head(topRows)\n",
    "# needed=temp.loc[:,'Fraud']\n",
    "# trn_fdr=sum(needed)/sum(X_trntst.loc[:,'Fraud'])\n",
    "\n",
    "\n",
    "# predictions=model.predict_proba(OOT_final_x)[:,1]\n",
    "\n",
    "# OOT_final_x['predicted']=predictions\n",
    "# OOT_final_x['Fraud']=OOT_final_y.values\n",
    "# #         print(X_oot_eval)\n",
    "# topRows=int(round(OOT_final_x.shape[0]*0.03))\n",
    "# temp=OOT_final_x.sort_values('predicted',ascending=False).head(topRows)\n",
    "# #         print(temp)\n",
    "# needed=temp.loc[:,'Fraud']\n",
    "# oot_fdr=sum(needed)/sum(OOT_final_x.loc[:,'Fraud'])"
   ]
  },
  {
   "cell_type": "code",
   "execution_count": 5,
   "metadata": {},
   "outputs": [],
   "source": [
    "# oot_fdr"
   ]
  },
  {
   "cell_type": "code",
   "execution_count": 6,
   "metadata": {},
   "outputs": [],
   "source": [
    "# trn_fdr"
   ]
  },
  {
   "cell_type": "code",
   "execution_count": null,
   "metadata": {},
   "outputs": [],
   "source": [
    "weight\n",
    "scale_pos_weight=weight,"
   ]
  },
  {
   "cell_type": "code",
   "execution_count": 155,
   "metadata": {},
   "outputs": [],
   "source": [
    "def avg_iter_xgb(iterations,learning_rate,weight,estimators,depth,train_set,test_set,oot_x,oot_y):\n",
    "    FDR3=pd.DataFrame()\n",
    "    nitermax=iterations\n",
    "    X_trntst=train_set\n",
    "    Y_trntst=test_set\n",
    "    OOT_final_x=oot_x\n",
    "    OOT_final_y=oot_y\n",
    "    \n",
    "    for niter in range(nitermax):\n",
    "        X_trn,X_tst,Y_trn,Y_tst=train_test_split(X_trntst,Y_trntst, test_size=0.20)\n",
    "\n",
    "        model=XGBClassifier(learning_rate=learning_rate,scale_pos_weight=weight,n_estimators=estimators,max_depth=depth,\\\n",
    "                           objective= 'binary:logistic',eval_metric='logloss')\n",
    "\n",
    "        X_trn_array=X_trn.values\n",
    "        X_tst_array=X_tst.values\n",
    "        X_oot_array=OOT_final_x.values\n",
    "        Y_trn_array=Y_trn.values\n",
    "        Y_tst_array=Y_tst.values\n",
    "        Y_oot_array=OOT_final_y\n",
    "\n",
    "        X_oot=OOT_final_x.copy()\n",
    "        X_trn_eval=X_trn.copy()\n",
    "        X_tst_eval=X_tst.copy()\n",
    "        X_oot_eval=X_oot.copy()\n",
    "\n",
    "        model.fit(X_trn,Y_trn)\n",
    "        predictions=model.predict_proba(X_trn)[:,1]\n",
    "\n",
    "        X_trn_eval['predicted']=predictions\n",
    "        X_trn_eval['Fraud']=Y_trn\n",
    "        topRows=int(round(X_trn_eval.shape[0]*0.03))\n",
    "        temp=X_trn_eval.sort_values('predicted',ascending=False).head(topRows)\n",
    "        needed=temp.loc[:,'Fraud']\n",
    "        FDR3.loc[niter,'trn']=sum(needed)/sum(X_trn_eval.loc[:,'Fraud'])\n",
    "\n",
    "        predictions=model.predict_proba(X_tst)[:,1]\n",
    "\n",
    "        X_tst_eval['predicted']=predictions\n",
    "        X_tst_eval['Fraud']=Y_tst\n",
    "        topRows=int(round(X_tst_eval.shape[0]*0.03))\n",
    "        temp=X_tst_eval.sort_values('predicted',ascending=False).head(topRows)\n",
    "        needed=temp.loc[:,'Fraud']\n",
    "        FDR3.loc[niter,'tst']=sum(needed)/sum(X_tst_eval.loc[:,'Fraud'])\n",
    "\n",
    "        predictions=model.predict_proba(X_oot)[:,1]\n",
    "\n",
    "        X_oot_eval['predicted']=predictions\n",
    "        X_oot_eval['Fraud']=OOT_final_y.values\n",
    "#         print(X_oot_eval)\n",
    "        topRows=int(round(X_oot_eval.shape[0]*0.03))\n",
    "        temp=X_oot_eval.sort_values('predicted',ascending=False).head(topRows)\n",
    "#         print(temp)\n",
    "        needed=temp.loc[:,'Fraud']\n",
    "        FDR3.loc[niter,'oot']=sum(needed)/sum(X_oot_eval.loc[:,'Fraud'])\n",
    "#         print(FDR3.loc[niter,'oot'])\n",
    "        \n",
    "    return list([FDR3.loc[:,'trn'].mean(),FDR3.loc[:,'tst'].mean(),FDR3.loc[:,'oot'].mean()])\n",
    "#         print(niter,FDR3.loc[niter,'trn'],FDR3.loc[niter,'tst'],FDR3.loc[niter,'oot'])\n",
    "    "
   ]
  },
  {
   "cell_type": "code",
   "execution_count": 153,
   "metadata": {},
   "outputs": [],
   "source": [
    "features=[10,20,30]\n",
    "max_depth=[3,6,10]\n",
    "weight=len(data.loc[data['Fraud']==0,['Fraud']])/len(data.loc[data['Fraud']==1,['Fraud']])\n",
    "learning_rate =[0.1,0.01,0.001]\n",
    "estimators=[500,600,800,900,1000,1100]\n"
   ]
  },
  {
   "cell_type": "code",
   "execution_count": 15,
   "metadata": {},
   "outputs": [
    {
     "name": "stderr",
     "output_type": "stream",
     "text": [
      "/Users/sharathreddy/Programs/anaconda3/lib/python3.8/site-packages/xgboost/sklearn.py:1176: UserWarning: The use of label encoder in XGBClassifier is deprecated and will be removed in a future release. To remove this warning, do the following: 1) Pass option use_label_encoder=False when constructing XGBClassifier object; and 2) Encode your labels (y) as integers starting with 0, i.e. 0, 1, 2, ..., [num_class - 1].\n",
      "  warnings.warn(label_encoder_deprecation_msg, UserWarning)\n",
      "/Users/sharathreddy/Programs/anaconda3/lib/python3.8/site-packages/xgboost/data.py:112: UserWarning: Use subset (sliced data) of np.ndarray is not recommended because it will generate extra copies and increase memory consumption\n",
      "  warnings.warn(\n"
     ]
    },
    {
     "name": "stdout",
     "output_type": "stream",
     "text": [
      "1\n",
      "2\n",
      "3\n",
      "4\n",
      "5\n",
      "6\n",
      "7\n",
      "8\n",
      "9\n",
      "10\n",
      "11\n",
      "12\n",
      "13\n",
      "14\n",
      "15\n",
      "16\n",
      "17\n",
      "18\n",
      "19\n",
      "20\n",
      "21\n",
      "22\n",
      "23\n",
      "24\n"
     ]
    }
   ],
   "source": [
    "results_xgb={}\n",
    "count=0\n",
    "for num in features:\n",
    "    results_xgb[num]=(avg_iter_xgb(10,0.1,weight,500,3,X_trntst.iloc[:,:num],Y_trntst,OOT_final_x.iloc[:,:num],OOT_final_y))\n",
    "    count+=1\n",
    "    print(count)\n",
    "    results_xgb[num].append(avg_iter_xgb(10,0.1,weight,600,3,X_trntst.iloc[:,:num],Y_trntst,OOT_final_x.iloc[:,:num],OOT_final_y))\n",
    "    count+=1\n",
    "    print(count)\n",
    "    results_xgb[num].append(avg_iter_xgb(10,0.1,weight,800,6,X_trntst.iloc[:,:num],Y_trntst,OOT_final_x.iloc[:,:num],OOT_final_y))\n",
    "    count+=1\n",
    "    print(count)\n",
    "    results_xgb[num].append(avg_iter_xgb(10,0.01,weight,900,6,X_trntst.iloc[:,:num],Y_trntst,OOT_final_x.iloc[:,:num],OOT_final_y))\n",
    "    count+=1\n",
    "    print(count)\n",
    "    results_xgb[num].append(avg_iter_xgb(10,0.001,weight,1000,6,X_trntst.iloc[:,:num],Y_trntst,OOT_final_x.iloc[:,:num],OOT_final_y))\n",
    "    count+=1\n",
    "    print(count)\n",
    "    results_xgb[num].append(avg_iter_xgb(10,0.001,weight,1000,8,X_trntst.iloc[:,:num],Y_trntst,OOT_final_x.iloc[:,:num],OOT_final_y))\n",
    "    count+=1\n",
    "    print(count)\n",
    "    results_xgb[num].append(avg_iter_xgb(10,0.1,weight,1000,10,X_trntst.iloc[:,:num],Y_trntst,OOT_final_x.iloc[:,:num],OOT_final_y))\n",
    "    count+=1\n",
    "    print(count)\n",
    "    results_xgb[num].append(avg_iter_xgb(10,0.1,weight,900,6,X_trntst.iloc[:,:num],Y_trntst,OOT_final_x.iloc[:,:num],OOT_final_y))\n",
    "    count+=1\n",
    "    print(count)\n",
    "    \n",
    "    \n",
    "    \n",
    "    "
   ]
  },
  {
   "cell_type": "code",
   "execution_count": 16,
   "metadata": {},
   "outputs": [
    {
     "data": {
      "text/plain": [
       "{10: [0.995068786813758,\n",
       "  0.8833861876528504,\n",
       "  0.18268156424581003,\n",
       "  [0.9952759544960269, 0.8869126756016203, 0.1776536312849162],\n",
       "  [1.0, 0.845661649679446, 0.15698324022346372],\n",
       "  [0.9913097027529696, 0.8893391759514314, 0.1793296089385475],\n",
       "  [0.9054396360303004, 0.808470952540268, 0.24804469273743018],\n",
       "  [0.9583174373927651, 0.8022279584181385, 0.253072625698324],\n",
       "  [1.0, 0.8219864542683858, 0.15642458100558662],\n",
       "  [1.0, 0.8374805579694, 0.15586592178770953]],\n",
       " 20: [0.9955040472426919,\n",
       "  0.8824831358738632,\n",
       "  0.2011173184357542,\n",
       "  [0.9957468900231289, 0.8869262380717856, 0.18715083798882678],\n",
       "  [1.0, 0.862394524809772, 0.16759776536312848],\n",
       "  [0.9960374816109144, 0.8746150223011007, 0.2659217877094972],\n",
       "  [0.8982895679553812, 0.8015345325524492, 0.3100558659217877],\n",
       "  [0.9623457019914327, 0.8059946478294213, 0.27709497206703915],\n",
       "  [1.0, 0.8351954095335007, 0.18379888268156422],\n",
       "  [1.0, 0.8560095912994516, 0.18603351955307265]],\n",
       " 30: [0.9950854283678636,\n",
       "  0.8866900633424374,\n",
       "  0.21173184357541902,\n",
       "  [0.9965070387054628, 0.8952724646723669, 0.2106145251396648],\n",
       "  [1.0, 0.8609870910305023, 0.1782122905027933],\n",
       "  [0.9950415419129806, 0.8810852814604505, 0.2932960893854748],\n",
       "  [0.9139546630331742, 0.8190600878712451, 0.323463687150838],\n",
       "  [0.9584066772453843, 0.7993923173747665, 0.288268156424581],\n",
       "  [1.0, 0.8564329063141021, 0.1877094972067039],\n",
       "  [1.0, 0.8521426346512271, 0.18100558659217875]]}"
      ]
     },
     "execution_count": 16,
     "metadata": {},
     "output_type": "execute_result"
    }
   ],
   "source": [
    "results_xgb"
   ]
  },
  {
   "cell_type": "code",
   "execution_count": 24,
   "metadata": {},
   "outputs": [
    {
     "name": "stdout",
     "output_type": "stream",
     "text": [
      "4\n",
      "{30: [0.9109111469044198, 0.8062065944201112, 0.32178770949720664]}\n",
      "5\n",
      "{30: [0.9109111469044198, 0.8062065944201112, 0.32178770949720664, [0.9203974297660921, 0.8002452858032425, 0.3463687150837989]]}\n",
      "6\n",
      "{30: [0.9109111469044198, 0.8062065944201112, 0.32178770949720664, [0.9203974297660921, 0.8002452858032425, 0.3463687150837989], [0.923031362497628, 0.8054298214892215, 0.32346368715083795]]}\n"
     ]
    }
   ],
   "source": [
    "new_res[30]=(avg_iter_xgb(10,0.001,weight,1100,6,X_trntst.iloc[:,:30],Y_trntst,OOT_final_x.iloc[:,:30],OOT_final_y))\n",
    "print(4)\n",
    "print(new_res)\n",
    "new_res[30].append(avg_iter_xgb(10,0.001,99,1200,6,X_trntst.iloc[:,:30],Y_trntst,OOT_final_x.iloc[:,:30],OOT_final_y))\n",
    "print(5)\n",
    "print(new_res)\n",
    "new_res[30].append(avg_iter_xgb(10,0.001,99,1300,6,X_trntst.iloc[:,:30],Y_trntst,OOT_final_x.iloc[:,:30],OOT_final_y))\n",
    "print(6)\n",
    "print(new_res)\n"
   ]
  },
  {
   "cell_type": "code",
   "execution_count": 25,
   "metadata": {},
   "outputs": [
    {
     "name": "stdout",
     "output_type": "stream",
     "text": [
      "7\n",
      "{30: [0.9109111469044198, 0.8062065944201112, 0.32178770949720664, [0.9203974297660921, 0.8002452858032425, 0.3463687150837989], [0.923031362497628, 0.8054298214892215, 0.32346368715083795], [0.924734667575204, 0.8056038945410646, 0.3050279329608938]]}\n",
      "8\n",
      "{30: [0.9109111469044198, 0.8062065944201112, 0.32178770949720664, [0.9203974297660921, 0.8002452858032425, 0.3463687150837989], [0.923031362497628, 0.8054298214892215, 0.32346368715083795], [0.924734667575204, 0.8056038945410646, 0.3050279329608938], [0.875528251794597, 0.7526809176175411, 0.375977653631285]]}\n",
      "9\n",
      "{30: [0.9109111469044198, 0.8062065944201112, 0.32178770949720664, [0.9203974297660921, 0.8002452858032425, 0.3463687150837989], [0.923031362497628, 0.8054298214892215, 0.32346368715083795], [0.924734667575204, 0.8056038945410646, 0.3050279329608938], [0.875528251794597, 0.7526809176175411, 0.375977653631285], [0.9095771976933886, 0.765601236089408, 0.293854748603352]]}\n"
     ]
    }
   ],
   "source": [
    "new_res[30].append(avg_iter_xgb(10,0.001,99,1400,6,X_trntst.iloc[:,:30],Y_trntst,OOT_final_x.iloc[:,:30],OOT_final_y))\n",
    "print(7)\n",
    "print(new_res)\n",
    "new_res[30].append(avg_iter_xgb(10,0.0001,99,1200,7,X_trntst.iloc[:,:30],Y_trntst,OOT_final_x.iloc[:,:30],OOT_final_y))\n",
    "print(8)\n",
    "print(new_res)\n",
    "new_res[30].append(avg_iter_xgb(10,0.0001,99,1250,8,X_trntst.iloc[:,:30],Y_trntst,OOT_final_x.iloc[:,:30],OOT_final_y))\n",
    "print(9)\n",
    "print(new_res)"
   ]
  },
  {
   "cell_type": "code",
   "execution_count": 26,
   "metadata": {},
   "outputs": [
    {
     "name": "stdout",
     "output_type": "stream",
     "text": [
      "9\n",
      "{30: [0.9109111469044198, 0.8062065944201112, 0.32178770949720664, [0.9203974297660921, 0.8002452858032425, 0.3463687150837989], [0.923031362497628, 0.8054298214892215, 0.32346368715083795], [0.924734667575204, 0.8056038945410646, 0.3050279329608938], [0.875528251794597, 0.7526809176175411, 0.375977653631285], [0.9095771976933886, 0.765601236089408, 0.293854748603352], [0.9083013373810646, 0.7602499063274137, 0.3]]}\n"
     ]
    }
   ],
   "source": [
    "new_res[30].append(avg_iter_xgb(10,0.0001,101,1200,8,X_trntst.iloc[:,:30],Y_trntst,OOT_final_x.iloc[:,:30],OOT_final_y))\n",
    "print(9)\n",
    "print(new_res)"
   ]
  },
  {
   "cell_type": "code",
   "execution_count": 28,
   "metadata": {},
   "outputs": [
    {
     "name": "stdout",
     "output_type": "stream",
     "text": [
      "10\n",
      "{30: [0.9109111469044198, 0.8062065944201112, 0.32178770949720664, [0.9203974297660921, 0.8002452858032425, 0.3463687150837989], [0.923031362497628, 0.8054298214892215, 0.32346368715083795], [0.924734667575204, 0.8056038945410646, 0.3050279329608938], [0.875528251794597, 0.7526809176175411, 0.375977653631285], [0.9095771976933886, 0.765601236089408, 0.293854748603352], [0.9083013373810646, 0.7602499063274137, 0.3]], 25: [0.9158842875919226, 0.7684064138692246, 0.2849162011173184]}\n"
     ]
    }
   ],
   "source": [
    "new_res[25]=(avg_iter_xgb(10,0.0001,99,1200,8,X_trntst.iloc[:,:25],Y_trntst,OOT_final_x.iloc[:,:25],OOT_final_y))\n",
    "print(10)\n",
    "print(new_res)"
   ]
  },
  {
   "cell_type": "markdown",
   "metadata": {},
   "source": [
    "### Adabooost model"
   ]
  },
  {
   "cell_type": "code",
   "execution_count": 3,
   "metadata": {},
   "outputs": [],
   "source": [
    "FDR3=pd.DataFrame()\n",
    "def avg_iter_adab(iterations,learning_rate,estimators,depth,train_set,test_set,oot_x,oot_y):\n",
    "    \n",
    "    nitermax=iterations\n",
    "    X_trntst=train_set\n",
    "    Y_trntst=test_set\n",
    "    OOT_final_x=oot_x\n",
    "    OOT_final_y=oot_y\n",
    "    \n",
    "    for niter in range(nitermax):\n",
    "        X_trn,X_tst,Y_trn,Y_tst=train_test_split(X_trntst,Y_trntst, test_size=0.3)\n",
    "\n",
    "        model=AdaBoostClassifier(base_estimator = DecisionTreeClassifier(max_depth=depth),\\\n",
    "                                 learning_rate=learning_rate,\\\n",
    "                                 n_estimators=estimators)\n",
    "\n",
    "        X_trn_array=X_trn.values\n",
    "        X_tst_array=X_tst.values\n",
    "        X_oot_array=OOT_final_x.values\n",
    "        Y_trn_array=Y_trn.values\n",
    "        Y_tst_array=Y_tst.values\n",
    "        Y_oot_array=OOT_final_y\n",
    "\n",
    "        X_oot=OOT_final_x.copy()\n",
    "        X_trn_eval=X_trn.copy()\n",
    "        X_tst_eval=X_tst.copy()\n",
    "        X_oot_eval=X_oot.copy()\n",
    "\n",
    "        model.fit(X_trn,Y_trn)\n",
    "        predictions=model.predict_proba(X_trn)[:,1]\n",
    "\n",
    "        X_trn_eval['predicted']=predictions\n",
    "        X_trn_eval['Fraud']=Y_trn\n",
    "        topRows=int(round(X_trn_eval.shape[0]*0.03))\n",
    "        temp=X_trn_eval.sort_values('predicted',ascending=False).head(topRows)\n",
    "        needed=temp.loc[:,'Fraud']\n",
    "        FDR3.loc[niter,'trn']=sum(needed)/sum(X_trn_eval.loc[:,'Fraud'])\n",
    "\n",
    "        predictions=model.predict_proba(X_tst)[:,1]\n",
    "\n",
    "        X_tst_eval['predicted']=predictions\n",
    "        X_tst_eval['Fraud']=Y_tst\n",
    "        topRows=int(round(X_tst_eval.shape[0]*0.03))\n",
    "        temp=X_tst_eval.sort_values('predicted',ascending=False).head(topRows)\n",
    "        needed=temp.loc[:,'Fraud']\n",
    "        FDR3.loc[niter,'tst']=sum(needed)/sum(X_tst_eval.loc[:,'Fraud'])\n",
    "\n",
    "        predictions=model.predict_proba(X_oot)[:,1]\n",
    "\n",
    "        X_oot_eval['predicted']=predictions\n",
    "        X_oot_eval['Fraud']=OOT_final_y.values\n",
    "#         print(X_oot_eval)\n",
    "        topRows=int(round(X_oot_eval.shape[0]*0.03))\n",
    "        temp=X_oot_eval.sort_values('predicted',ascending=False).head(topRows)\n",
    "#         print(temp)\n",
    "        needed=temp.loc[:,'Fraud']\n",
    "        FDR3.loc[niter,'oot']=sum(needed)/sum(X_oot_eval.loc[:,'Fraud'])\n",
    "#         print(FDR3.loc[niter,'oot'])\n",
    "        \n",
    "    return list([FDR3.loc[:,'trn'].mean(),FDR3.loc[:,'tst'].mean(),FDR3.loc[:,'oot'].mean()])\n",
    "#         print(niter,FDR3.loc[niter,'trn'],FDR3.loc[niter,'tst'],FDR3.loc[niter,'oot'])\n",
    "    "
   ]
  },
  {
   "cell_type": "code",
   "execution_count": null,
   "metadata": {},
   "outputs": [],
   "source": [
    "results_adab={}\n",
    "count=0\n",
    "for num in features:\n",
    "    results_adab[num]=(avg_iter_adab(10,0.1,100,3,X_trntst.iloc[:,:num],Y_trntst,OOT_final_x.iloc[:,:num],OOT_final_y))\n",
    "    count+=1\n",
    "    print(count)\n",
    "    results_adab[num].append(avg_iter_adab(10,0.1,200,3,X_trntst.iloc[:,:num],Y_trntst,OOT_final_x.iloc[:,:num],OOT_final_y))\n",
    "    count+=1\n",
    "    print(count)\n",
    "    results_adab[num].append(avg_iter_adab(10,0.1,250,6,X_trntst.iloc[:,:num],Y_trntst,OOT_final_x.iloc[:,:num],OOT_final_y))\n",
    "    count+=1\n",
    "    print(count)\n",
    "    results_adab[num].append(avg_iter_adab(10,0.001,300,6,X_trntst.iloc[:,:num],Y_trntst,OOT_final_x.iloc[:,:num],OOT_final_y))\n",
    "    count+=1\n",
    "    print(count)\n",
    "    results_adab[num].append(avg_iter_adab(10,0.001,300,6,X_trntst.iloc[:,:num],Y_trntst,OOT_final_x.iloc[:,:num],OOT_final_y))\n",
    "    count+=1\n",
    "    print(count)\n",
    "    results_adab[num].append(avg_iter_adab(10,0.1,400,10,X_trntst.iloc[:,:num],Y_trntst,OOT_final_x.iloc[:,:num],OOT_final_y))\n",
    "    count+=1\n",
    "    print(count)\n",
    "    results_adab[num].append(avg_iter_adab(10,0.1,500,6,X_trntst.iloc[:,:num],Y_trntst,OOT_final_x.iloc[:,:num],OOT_final_y))\n",
    "    count+=1\n",
    "    print(count)"
   ]
  },
  {
   "cell_type": "code",
   "execution_count": null,
   "metadata": {},
   "outputs": [],
   "source": [
    "results_adab={}\n",
    "results_adab[30]=(avg_iter_adab(10,0.01,1000,6,X_trntst.iloc[:,:30],Y_trntst,OOT_final_x.iloc[:,:30],OOT_final_y))\n",
    "print(1)\n",
    "print(results_adab)\n",
    "results_adab[25]=(avg_iter_adab(10,0.001,1200,7,X_trntst.iloc[:,:25],Y_trntst,OOT_final_x.iloc[:,:25],OOT_final_y))\n",
    "print(2)\n",
    "print(results_adab)\n",
    "results_adab[20]=(avg_iter_adab(10,0.001,1200,30,X_trntst.iloc[:,:20],Y_trntst,OOT_final_x.iloc[:,:20],OOT_final_y))\n",
    "print(3)\n",
    "print(results_adab)\n"
   ]
  },
  {
   "cell_type": "code",
   "execution_count": null,
   "metadata": {},
   "outputs": [],
   "source": [
    "results_adab[30].append(avg_iter_adab(10,0.001,1200,6,X_trntst.iloc[:,:30],Y_trntst,OOT_final_x.iloc[:,:30],OOT_final_y))\n",
    "print(6)\n",
    "print(results_adab)"
   ]
  },
  {
   "cell_type": "code",
   "execution_count": null,
   "metadata": {},
   "outputs": [],
   "source": []
  },
  {
   "cell_type": "code",
   "execution_count": null,
   "metadata": {},
   "outputs": [],
   "source": []
  },
  {
   "cell_type": "code",
   "execution_count": null,
   "metadata": {},
   "outputs": [],
   "source": []
  },
  {
   "cell_type": "code",
   "execution_count": null,
   "metadata": {},
   "outputs": [],
   "source": []
  },
  {
   "cell_type": "code",
   "execution_count": null,
   "metadata": {},
   "outputs": [],
   "source": []
  },
  {
   "cell_type": "code",
   "execution_count": null,
   "metadata": {},
   "outputs": [],
   "source": []
  },
  {
   "cell_type": "code",
   "execution_count": null,
   "metadata": {},
   "outputs": [],
   "source": []
  },
  {
   "cell_type": "code",
   "execution_count": null,
   "metadata": {},
   "outputs": [],
   "source": []
  },
  {
   "cell_type": "code",
   "execution_count": null,
   "metadata": {},
   "outputs": [],
   "source": []
  },
  {
   "cell_type": "code",
   "execution_count": null,
   "metadata": {},
   "outputs": [],
   "source": []
  },
  {
   "cell_type": "code",
   "execution_count": null,
   "metadata": {},
   "outputs": [],
   "source": []
  },
  {
   "cell_type": "code",
   "execution_count": null,
   "metadata": {},
   "outputs": [],
   "source": []
  },
  {
   "cell_type": "code",
   "execution_count": null,
   "metadata": {},
   "outputs": [],
   "source": []
  },
  {
   "cell_type": "code",
   "execution_count": null,
   "metadata": {},
   "outputs": [],
   "source": []
  }
 ],
 "metadata": {
  "kernelspec": {
   "display_name": "Python 3",
   "language": "python",
   "name": "python3"
  },
  "language_info": {
   "codemirror_mode": {
    "name": "ipython",
    "version": 3
   },
   "file_extension": ".py",
   "mimetype": "text/x-python",
   "name": "python",
   "nbconvert_exporter": "python",
   "pygments_lexer": "ipython3",
   "version": "3.8.5"
  }
 },
 "nbformat": 4,
 "nbformat_minor": 4
}
