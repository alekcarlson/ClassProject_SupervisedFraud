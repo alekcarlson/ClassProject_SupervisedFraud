{
 "cells": [
  {
   "cell_type": "markdown",
   "metadata": {
    "id": "rnc3NL8pZw9c"
   },
   "source": [
    "# Project 3 - Part 1 (Data Cleaning)\n",
    "## Roman Sielewicz, Imani Mufti, Alek Carlson, Adam Tassabehji, Sharath Reddy\n",
    "### 2021 April 29"
   ]
  },
  {
   "cell_type": "markdown",
   "metadata": {
    "id": "k0t54moMhFbD"
   },
   "source": [
    "### Importing Packages"
   ]
  },
  {
   "cell_type": "code",
   "execution_count": 1,
   "metadata": {
    "executionInfo": {
     "elapsed": 2642,
     "status": "ok",
     "timestamp": 1619108649034,
     "user": {
      "displayName": "Sharath Reddy Polu",
      "photoUrl": "",
      "userId": "11655319240473911143"
     },
     "user_tz": 420
    },
    "id": "_kXs2vHsX_ke"
   },
   "outputs": [],
   "source": [
    "# Importing Packages\n",
    "from datetime import datetime\n",
    "start_time = datetime.now()\n",
    "# import kaleido\n",
    "import datetime as dt\n",
    "import pandas as pd\n",
    "import numpy as np\n",
    "import plotly.express as px\n",
    "import plotly.graph_objects as go\n",
    "import matplotlib.pyplot as plt\n",
    "import seaborn as sns\n",
    "import os"
   ]
  },
  {
   "cell_type": "code",
   "execution_count": 2,
   "metadata": {
    "executionInfo": {
     "elapsed": 23905,
     "status": "ok",
     "timestamp": 1619108683497,
     "user": {
      "displayName": "Sharath Reddy Polu",
      "photoUrl": "",
      "userId": "11655319240473911143"
     },
     "user_tz": 420
    },
    "id": "ycRjBsDDt0n8"
   },
   "outputs": [],
   "source": [
    "# packages for google colab\n",
    "# Code to read csv file into Colaboratory:\n",
    "!pip install -U -q PyDrive\n",
    "from pydrive.auth import GoogleAuth\n",
    "from pydrive.drive import GoogleDrive\n",
    "from google.colab import auth\n",
    "from oauth2client.client import GoogleCredentials\n",
    "# Authenticate and create the PyDrive client.\n",
    "auth.authenticate_user()\n",
    "gauth = GoogleAuth()\n",
    "gauth.credentials = GoogleCredentials.get_application_default()\n",
    "drive = GoogleDrive(gauth)"
   ]
  },
  {
   "cell_type": "markdown",
   "metadata": {
    "id": "fmnN1LjDg5YB"
   },
   "source": [
    "### Loading Data from cloud file"
   ]
  },
  {
   "cell_type": "code",
   "execution_count": 3,
   "metadata": {
    "colab": {
     "base_uri": "https://localhost:8080/"
    },
    "executionInfo": {
     "elapsed": 492,
     "status": "ok",
     "timestamp": 1619108714505,
     "user": {
      "displayName": "Sharath Reddy Polu",
      "photoUrl": "",
      "userId": "11655319240473911143"
     },
     "user_tz": 420
    },
    "id": "OWuAjgX2deiS",
    "outputId": "3616ee1a-9d88-4303-d0c2-1b6c850a2d57"
   },
   "outputs": [
    {
     "name": "stdout",
     "output_type": "stream",
     "text": [
      "14bDUDVX4AKEtpFLwrNq5qv1Gcm9Ae3jJ\n"
     ]
    }
   ],
   "source": [
    "# getting link and accessing data\n",
    "# link: shareable link to excel file\n",
    "link = 'https://drive.google.com/file/d/14bDUDVX4AKEtpFLwrNq5qv1Gcm9Ae3jJ/view?usp=sharing' \n",
    "id = link.split('/')[-2] # id: the drive file identifier\n",
    "print(id)"
   ]
  },
  {
   "cell_type": "code",
   "execution_count": 4,
   "metadata": {
    "executionInfo": {
     "elapsed": 12189,
     "status": "ok",
     "timestamp": 1619108786607,
     "user": {
      "displayName": "Sharath Reddy Polu",
      "photoUrl": "",
      "userId": "11655319240473911143"
     },
     "user_tz": 420
    },
    "id": "shO7WYhkgH9w"
   },
   "outputs": [],
   "source": [
    "# creating pandas dataframe\n",
    "downloaded = drive.CreateFile({'id':id}) \n",
    "downloaded.GetContentFile('card transactions.xlsx')  \n",
    "df = pd.read_excel('card transactions.xlsx')"
   ]
  },
  {
   "cell_type": "code",
   "execution_count": null,
   "metadata": {
    "id": "UjfOGxhYhR4B"
   },
   "outputs": [],
   "source": [
    "# # Alternative for running on local machine (uncomment to run)\n",
    "# # Loading Data\n",
    "# df = pd.read_excel('card transactions.xlsx')"
   ]
  },
  {
   "cell_type": "code",
   "execution_count": 5,
   "metadata": {
    "colab": {
     "base_uri": "https://localhost:8080/",
     "height": 238
    },
    "executionInfo": {
     "elapsed": 271,
     "status": "ok",
     "timestamp": 1619108825379,
     "user": {
      "displayName": "Sharath Reddy Polu",
      "photoUrl": "",
      "userId": "11655319240473911143"
     },
     "user_tz": 420
    },
    "id": "Wna0e1kWamxA",
    "outputId": "b506bad2-0460-45d0-8d79-3ef9e9fe6736"
   },
   "outputs": [
    {
     "name": "stdout",
     "output_type": "stream",
     "text": [
      "96753 \trows \n",
      "10 \tcolumns\n"
     ]
    },
    {
     "data": {
      "text/html": [
       "<div>\n",
       "<style scoped>\n",
       "    .dataframe tbody tr th:only-of-type {\n",
       "        vertical-align: middle;\n",
       "    }\n",
       "\n",
       "    .dataframe tbody tr th {\n",
       "        vertical-align: top;\n",
       "    }\n",
       "\n",
       "    .dataframe thead th {\n",
       "        text-align: right;\n",
       "    }\n",
       "</style>\n",
       "<table border=\"1\" class=\"dataframe\">\n",
       "  <thead>\n",
       "    <tr style=\"text-align: right;\">\n",
       "      <th></th>\n",
       "      <th>Recnum</th>\n",
       "      <th>Cardnum</th>\n",
       "      <th>Date</th>\n",
       "      <th>Merchnum</th>\n",
       "      <th>Merch description</th>\n",
       "      <th>Merch state</th>\n",
       "      <th>Merch zip</th>\n",
       "      <th>Transtype</th>\n",
       "      <th>Amount</th>\n",
       "      <th>Fraud</th>\n",
       "    </tr>\n",
       "  </thead>\n",
       "  <tbody>\n",
       "    <tr>\n",
       "      <th>0</th>\n",
       "      <td>1</td>\n",
       "      <td>5142190439</td>\n",
       "      <td>2010-01-01</td>\n",
       "      <td>5509006296254</td>\n",
       "      <td>FEDEX SHP 12/23/09 AB#</td>\n",
       "      <td>TN</td>\n",
       "      <td>38118.0</td>\n",
       "      <td>P</td>\n",
       "      <td>3.62</td>\n",
       "      <td>0</td>\n",
       "    </tr>\n",
       "    <tr>\n",
       "      <th>1</th>\n",
       "      <td>2</td>\n",
       "      <td>5142183973</td>\n",
       "      <td>2010-01-01</td>\n",
       "      <td>61003026333</td>\n",
       "      <td>SERVICE MERCHANDISE #81</td>\n",
       "      <td>MA</td>\n",
       "      <td>1803.0</td>\n",
       "      <td>P</td>\n",
       "      <td>31.42</td>\n",
       "      <td>0</td>\n",
       "    </tr>\n",
       "    <tr>\n",
       "      <th>2</th>\n",
       "      <td>3</td>\n",
       "      <td>5142131721</td>\n",
       "      <td>2010-01-01</td>\n",
       "      <td>4503082993600</td>\n",
       "      <td>OFFICE DEPOT #191</td>\n",
       "      <td>MD</td>\n",
       "      <td>20706.0</td>\n",
       "      <td>P</td>\n",
       "      <td>178.49</td>\n",
       "      <td>0</td>\n",
       "    </tr>\n",
       "    <tr>\n",
       "      <th>3</th>\n",
       "      <td>4</td>\n",
       "      <td>5142148452</td>\n",
       "      <td>2010-01-01</td>\n",
       "      <td>5509006296254</td>\n",
       "      <td>FEDEX SHP 12/28/09 AB#</td>\n",
       "      <td>TN</td>\n",
       "      <td>38118.0</td>\n",
       "      <td>P</td>\n",
       "      <td>3.62</td>\n",
       "      <td>0</td>\n",
       "    </tr>\n",
       "    <tr>\n",
       "      <th>4</th>\n",
       "      <td>5</td>\n",
       "      <td>5142190439</td>\n",
       "      <td>2010-01-01</td>\n",
       "      <td>5509006296254</td>\n",
       "      <td>FEDEX SHP 12/23/09 AB#</td>\n",
       "      <td>TN</td>\n",
       "      <td>38118.0</td>\n",
       "      <td>P</td>\n",
       "      <td>3.62</td>\n",
       "      <td>0</td>\n",
       "    </tr>\n",
       "  </tbody>\n",
       "</table>\n",
       "</div>"
      ],
      "text/plain": [
       "   Recnum     Cardnum       Date  ... Transtype  Amount Fraud\n",
       "0       1  5142190439 2010-01-01  ...         P    3.62     0\n",
       "1       2  5142183973 2010-01-01  ...         P   31.42     0\n",
       "2       3  5142131721 2010-01-01  ...         P  178.49     0\n",
       "3       4  5142148452 2010-01-01  ...         P    3.62     0\n",
       "4       5  5142190439 2010-01-01  ...         P    3.62     0\n",
       "\n",
       "[5 rows x 10 columns]"
      ]
     },
     "execution_count": 5,
     "metadata": {
      "tags": []
     },
     "output_type": "execute_result"
    }
   ],
   "source": [
    "# Information about the data\n",
    "print(f'{df.shape[0]} \\trows \\n{df.shape[1]} \\tcolumns')\n",
    "# print(df.dtypes)\n",
    "df.head()"
   ]
  },
  {
   "cell_type": "markdown",
   "metadata": {
    "id": "1SmmYAiEk8li"
   },
   "source": [
    "### Initial Data Cleaning"
   ]
  },
  {
   "cell_type": "code",
   "execution_count": 6,
   "metadata": {
    "executionInfo": {
     "elapsed": 262,
     "status": "ok",
     "timestamp": 1619108841601,
     "user": {
      "displayName": "Sharath Reddy Polu",
      "photoUrl": "",
      "userId": "11655319240473911143"
     },
     "user_tz": 420
    },
    "id": "vtZ73Ku-j6S7"
   },
   "outputs": [],
   "source": [
    "# Renaming columns\n",
    "df.rename(columns={'Merch description':'Merchdescription', 'Merch state':'Merchstate', 'Merch zip':'Merchzip'}, inplace=True)"
   ]
  },
  {
   "cell_type": "code",
   "execution_count": 7,
   "metadata": {
    "colab": {
     "base_uri": "https://localhost:8080/",
     "height": 80
    },
    "executionInfo": {
     "elapsed": 328,
     "status": "ok",
     "timestamp": 1619109396988,
     "user": {
      "displayName": "Sharath Reddy Polu",
      "photoUrl": "",
      "userId": "11655319240473911143"
     },
     "user_tz": 420
    },
    "id": "632-pqtziC_6",
    "outputId": "6810e097-7ea3-4f42-c665-330d74c8a5c4"
   },
   "outputs": [
    {
     "data": {
      "text/html": [
       "<div>\n",
       "<style scoped>\n",
       "    .dataframe tbody tr th:only-of-type {\n",
       "        vertical-align: middle;\n",
       "    }\n",
       "\n",
       "    .dataframe tbody tr th {\n",
       "        vertical-align: top;\n",
       "    }\n",
       "\n",
       "    .dataframe thead th {\n",
       "        text-align: right;\n",
       "    }\n",
       "</style>\n",
       "<table border=\"1\" class=\"dataframe\">\n",
       "  <thead>\n",
       "    <tr style=\"text-align: right;\">\n",
       "      <th></th>\n",
       "      <th>Recnum</th>\n",
       "      <th>Cardnum</th>\n",
       "      <th>Date</th>\n",
       "      <th>Merchnum</th>\n",
       "      <th>Merchdescription</th>\n",
       "      <th>Merchstate</th>\n",
       "      <th>Merchzip</th>\n",
       "      <th>Transtype</th>\n",
       "      <th>Amount</th>\n",
       "      <th>Fraud</th>\n",
       "    </tr>\n",
       "  </thead>\n",
       "  <tbody>\n",
       "    <tr>\n",
       "      <th>47339</th>\n",
       "      <td>47340</td>\n",
       "      <td>5142275225</td>\n",
       "      <td>2010-06-22</td>\n",
       "      <td>NaN</td>\n",
       "      <td>INTERSOL</td>\n",
       "      <td>NaN</td>\n",
       "      <td>NaN</td>\n",
       "      <td>P</td>\n",
       "      <td>47900.0</td>\n",
       "      <td>0</td>\n",
       "    </tr>\n",
       "  </tbody>\n",
       "</table>\n",
       "</div>"
      ],
      "text/plain": [
       "       Recnum     Cardnum       Date  ... Transtype   Amount Fraud\n",
       "47339   47340  5142275225 2010-06-22  ...         P  47900.0     0\n",
       "\n",
       "[1 rows x 10 columns]"
      ]
     },
     "execution_count": 7,
     "metadata": {
      "tags": []
     },
     "output_type": "execute_result"
    }
   ],
   "source": [
    "# Remove this extremely large transaction amount--transaction value with over $3 million\n",
    "df = df.loc[df['Amount'] <= 1000000].copy()\n",
    "df.loc[df['Amount'] == df['Amount'].max(), :]"
   ]
  },
  {
   "cell_type": "code",
   "execution_count": 8,
   "metadata": {
    "colab": {
     "base_uri": "https://localhost:8080/",
     "height": 238
    },
    "executionInfo": {
     "elapsed": 456,
     "status": "ok",
     "timestamp": 1619112656213,
     "user": {
      "displayName": "Sharath Reddy Polu",
      "photoUrl": "",
      "userId": "11655319240473911143"
     },
     "user_tz": 420
    },
    "id": "YnSnCpaZlfla",
    "outputId": "39ddebb9-e026-4ce0-a352-668546a4de23"
   },
   "outputs": [
    {
     "name": "stdout",
     "output_type": "stream",
     "text": [
      "Before: 96752\n",
      "After: 96397\n"
     ]
    },
    {
     "data": {
      "text/html": [
       "<div>\n",
       "<style scoped>\n",
       "    .dataframe tbody tr th:only-of-type {\n",
       "        vertical-align: middle;\n",
       "    }\n",
       "\n",
       "    .dataframe tbody tr th {\n",
       "        vertical-align: top;\n",
       "    }\n",
       "\n",
       "    .dataframe thead th {\n",
       "        text-align: right;\n",
       "    }\n",
       "</style>\n",
       "<table border=\"1\" class=\"dataframe\">\n",
       "  <thead>\n",
       "    <tr style=\"text-align: right;\">\n",
       "      <th></th>\n",
       "      <th>Recnum</th>\n",
       "      <th>Cardnum</th>\n",
       "      <th>Date</th>\n",
       "      <th>Merchnum</th>\n",
       "      <th>Merchdescription</th>\n",
       "      <th>Merchstate</th>\n",
       "      <th>Merchzip</th>\n",
       "      <th>Transtype</th>\n",
       "      <th>Amount</th>\n",
       "      <th>Fraud</th>\n",
       "    </tr>\n",
       "  </thead>\n",
       "  <tbody>\n",
       "    <tr>\n",
       "      <th>0</th>\n",
       "      <td>1</td>\n",
       "      <td>5142190439</td>\n",
       "      <td>2010-01-01</td>\n",
       "      <td>5509006296254</td>\n",
       "      <td>FEDEX SHP 12/23/09 AB#</td>\n",
       "      <td>TN</td>\n",
       "      <td>38118.0</td>\n",
       "      <td>P</td>\n",
       "      <td>3.62</td>\n",
       "      <td>0</td>\n",
       "    </tr>\n",
       "    <tr>\n",
       "      <th>1</th>\n",
       "      <td>2</td>\n",
       "      <td>5142183973</td>\n",
       "      <td>2010-01-01</td>\n",
       "      <td>61003026333</td>\n",
       "      <td>SERVICE MERCHANDISE #81</td>\n",
       "      <td>MA</td>\n",
       "      <td>1803.0</td>\n",
       "      <td>P</td>\n",
       "      <td>31.42</td>\n",
       "      <td>0</td>\n",
       "    </tr>\n",
       "    <tr>\n",
       "      <th>2</th>\n",
       "      <td>3</td>\n",
       "      <td>5142131721</td>\n",
       "      <td>2010-01-01</td>\n",
       "      <td>4503082993600</td>\n",
       "      <td>OFFICE DEPOT #191</td>\n",
       "      <td>MD</td>\n",
       "      <td>20706.0</td>\n",
       "      <td>P</td>\n",
       "      <td>178.49</td>\n",
       "      <td>0</td>\n",
       "    </tr>\n",
       "    <tr>\n",
       "      <th>3</th>\n",
       "      <td>4</td>\n",
       "      <td>5142148452</td>\n",
       "      <td>2010-01-01</td>\n",
       "      <td>5509006296254</td>\n",
       "      <td>FEDEX SHP 12/28/09 AB#</td>\n",
       "      <td>TN</td>\n",
       "      <td>38118.0</td>\n",
       "      <td>P</td>\n",
       "      <td>3.62</td>\n",
       "      <td>0</td>\n",
       "    </tr>\n",
       "    <tr>\n",
       "      <th>4</th>\n",
       "      <td>5</td>\n",
       "      <td>5142190439</td>\n",
       "      <td>2010-01-01</td>\n",
       "      <td>5509006296254</td>\n",
       "      <td>FEDEX SHP 12/23/09 AB#</td>\n",
       "      <td>TN</td>\n",
       "      <td>38118.0</td>\n",
       "      <td>P</td>\n",
       "      <td>3.62</td>\n",
       "      <td>0</td>\n",
       "    </tr>\n",
       "  </tbody>\n",
       "</table>\n",
       "</div>"
      ],
      "text/plain": [
       "   Recnum     Cardnum       Date  ... Transtype  Amount Fraud\n",
       "0       1  5142190439 2010-01-01  ...         P    3.62     0\n",
       "1       2  5142183973 2010-01-01  ...         P   31.42     0\n",
       "2       3  5142131721 2010-01-01  ...         P  178.49     0\n",
       "3       4  5142148452 2010-01-01  ...         P    3.62     0\n",
       "4       5  5142190439 2010-01-01  ...         P    3.62     0\n",
       "\n",
       "[5 rows x 10 columns]"
      ]
     },
     "execution_count": 8,
     "metadata": {
      "tags": []
     },
     "output_type": "execute_result"
    }
   ],
   "source": [
    "# Removing all transactioned where tranaction type is not 'P'\n",
    "print(f'Before: {len(df)}')\n",
    "df = df[df['Transtype'] == 'P']\n",
    "print(f'After: {len(df)}')\n",
    "df.head()"
   ]
  },
  {
   "cell_type": "markdown",
   "metadata": {
    "id": "2UI_5tlymlUM"
   },
   "source": [
    "Imputing Missing Values"
   ]
  },
  {
   "cell_type": "code",
   "execution_count": 9,
   "metadata": {
    "colab": {
     "base_uri": "https://localhost:8080/"
    },
    "executionInfo": {
     "elapsed": 553,
     "status": "ok",
     "timestamp": 1619112858225,
     "user": {
      "displayName": "Sharath Reddy Polu",
      "photoUrl": "",
      "userId": "11655319240473911143"
     },
     "user_tz": 420
    },
    "id": "jeFeh0Y0lzbk",
    "outputId": "e15373ab-2141-425c-ff41-f40a3f796eac"
   },
   "outputs": [
    {
     "data": {
      "text/plain": [
       "Recnum                 0\n",
       "Cardnum                0\n",
       "Date                   0\n",
       "Merchnum            3198\n",
       "Merchdescription       0\n",
       "Merchstate          1020\n",
       "Merchzip            4300\n",
       "Transtype              0\n",
       "Amount                 0\n",
       "Fraud                  0\n",
       "dtype: int64"
      ]
     },
     "execution_count": 9,
     "metadata": {
      "tags": []
     },
     "output_type": "execute_result"
    }
   ],
   "source": [
    "df.isna().sum()"
   ]
  },
  {
   "cell_type": "code",
   "execution_count": 10,
   "metadata": {
    "executionInfo": {
     "elapsed": 408,
     "status": "ok",
     "timestamp": 1619112858960,
     "user": {
      "displayName": "Sharath Reddy Polu",
      "photoUrl": "",
      "userId": "11655319240473911143"
     },
     "user_tz": 420
    },
    "id": "8HVEunhli-e0"
   },
   "outputs": [],
   "source": [
    "# replacing 0's with NaN\n",
    "df['Merchnum'] = df['Merchnum'].replace({'0':np.nan})\n",
    "# converting certain columns to string type\n",
    "for c in ['Cardnum', 'Merchnum', 'Merchstate', 'Merchzip']:\n",
    "    df[c] = df[c].astype(str)  "
   ]
  },
  {
   "cell_type": "code",
   "execution_count": 11,
   "metadata": {
    "executionInfo": {
     "elapsed": 667,
     "status": "ok",
     "timestamp": 1619112861947,
     "user": {
      "displayName": "Sharath Reddy Polu",
      "photoUrl": "",
      "userId": "11655319240473911143"
     },
     "user_tz": 420
    },
    "id": "dVyrsE4ulfxk"
   },
   "outputs": [],
   "source": [
    "# defining most_frequent function \n",
    "def most_frequent(x):\n",
    "    try:\n",
    "        return x.value_counts().idxmax()\n",
    "    except:\n",
    "        return \"nan\""
   ]
  },
  {
   "cell_type": "code",
   "execution_count": null,
   "metadata": {
    "colab": {
     "base_uri": "https://localhost:8080/"
    },
    "executionInfo": {
     "elapsed": 27863,
     "status": "ok",
     "timestamp": 1618897291342,
     "user": {
      "displayName": "Roman Sielewicz",
      "photoUrl": "https://lh3.googleusercontent.com/a-/AOh14GhGSmjztwWC5LeA0gsBixbo4yVXHtIQAhJW_JDJmg=s64",
      "userId": "01884280537581955902"
     },
     "user_tz": 420
    },
    "id": "-oMC4tjNt0oB",
    "outputId": "1d15b15e-79ca-41a3-ae6e-16575f79dafc"
   },
   "outputs": [
    {
     "name": "stdout",
     "output_type": "stream",
     "text": [
      "Merchnum - initial: 3251 null values, replaced: 361 null values, remaining: 2890 null values\n",
      "Merchnum - initial: 2890 null values, replaced: 2114 null values, remaining: 776 null values\n"
     ]
    }
   ],
   "source": [
    "# Replacing null values for Merchnum using Merchdescription and Cardnum\n",
    "colname = 'Merchnum'\n",
    "for linkingname in ['Merchdescription','Cardnum']:\n",
    "    initialnull = len(df[df[colname]=='nan'])\n",
    "    df['mode_'+colname+'_groupby_'+linkingname] = df[linkingname].map(df.groupby(linkingname)[colname].agg(lambda x: most_frequent(x)))\n",
    "    df[colname] = np.where(df[colname]=='nan', df['mode_'+colname+'_groupby_'+linkingname], df[colname])\n",
    "    endnull = len(df[df[colname]=='nan'])\n",
    "    print(f'{colname} - initial: {initialnull} null values, replaced: {initialnull-endnull} null values, remaining: {endnull} null values')"
   ]
  },
  {
   "cell_type": "code",
   "execution_count": null,
   "metadata": {
    "colab": {
     "base_uri": "https://localhost:8080/"
    },
    "executionInfo": {
     "elapsed": 27856,
     "status": "ok",
     "timestamp": 1618897291343,
     "user": {
      "displayName": "Roman Sielewicz",
      "photoUrl": "https://lh3.googleusercontent.com/a-/AOh14GhGSmjztwWC5LeA0gsBixbo4yVXHtIQAhJW_JDJmg=s64",
      "userId": "01884280537581955902"
     },
     "user_tz": 420
    },
    "id": "23OolU5Nt0oC",
    "outputId": "907ed4ec-5591-4870-f3fa-ffa10b4487b8"
   },
   "outputs": [
    {
     "name": "stdout",
     "output_type": "stream",
     "text": [
      "initial: 776 null values, replaced: 776 null values, remaining: 0 null values\n"
     ]
    }
   ],
   "source": [
    "# Replacing null values for Merchnum using Recnum\n",
    "initialnull = len(df[df['Merchnum']=='nan'])\n",
    "df['Merchnum'] = np.where(df['Merchnum']=='nan', df['Recnum'], df['Merchnum'])\n",
    "endnull = df['Merchnum'].isnull().sum()\n",
    "print(f'initial: {initialnull} null values, replaced: {initialnull-endnull} null values, remaining: {endnull} null values')"
   ]
  },
  {
   "cell_type": "code",
   "execution_count": null,
   "metadata": {
    "colab": {
     "base_uri": "https://localhost:8080/"
    },
    "executionInfo": {
     "elapsed": 46791,
     "status": "ok",
     "timestamp": 1618897310286,
     "user": {
      "displayName": "Roman Sielewicz",
      "photoUrl": "https://lh3.googleusercontent.com/a-/AOh14GhGSmjztwWC5LeA0gsBixbo4yVXHtIQAhJW_JDJmg=s64",
      "userId": "01884280537581955902"
     },
     "user_tz": 420
    },
    "id": "Xu1lE4Jct0oC",
    "outputId": "67224362-0c6a-43e9-907b-564b08e5f9f0"
   },
   "outputs": [
    {
     "name": "stdout",
     "output_type": "stream",
     "text": [
      "Merchstate - initial: 1020 null values,     replaced: 603 null values, remaining: 417 null values\n",
      "Merchzip - initial: 4300 null values,     replaced: 1592 null values, remaining: 2708 null values\n"
     ]
    }
   ],
   "source": [
    "# Replacing null values for Merchstate and Merchzip using Merchnum\n",
    "linkingname = 'Merchnum'\n",
    "for colname in ['Merchstate', 'Merchzip']:\n",
    "    initialnull = len(df[df[colname]=='nan'])\n",
    "    df['mode_'+colname+'_groupby_'+linkingname] = df[linkingname].map(df.groupby(linkingname)[colname].agg(lambda x: most_frequent(x)))\n",
    "    df[colname] = np.where(df[colname]=='nan', \\\n",
    "                           df['mode_'+colname+'_groupby_'+linkingname], df[colname])\n",
    "    endnull = len(df[df[colname]=='nan'])\n",
    "    print(f'{colname} - initial: {initialnull} null values, \\\n",
    "    replaced: {initialnull-endnull} null values, remaining: {endnull} null values')"
   ]
  },
  {
   "cell_type": "code",
   "execution_count": null,
   "metadata": {
    "colab": {
     "base_uri": "https://localhost:8080/"
    },
    "executionInfo": {
     "elapsed": 46784,
     "status": "ok",
     "timestamp": 1618897310287,
     "user": {
      "displayName": "Roman Sielewicz",
      "photoUrl": "https://lh3.googleusercontent.com/a-/AOh14GhGSmjztwWC5LeA0gsBixbo4yVXHtIQAhJW_JDJmg=s64",
      "userId": "01884280537581955902"
     },
     "user_tz": 420
    },
    "id": "aM_zcjYBt0oC",
    "outputId": "dc404ebd-eb0b-453c-df64-9707e6db640f"
   },
   "outputs": [
    {
     "name": "stdout",
     "output_type": "stream",
     "text": [
      "Merchstate - initial: 417 null values, replaced:     417 null values, remaining: 0 null values\n",
      "Merchzip - initial: 2708 null values, replaced:     2708 null values, remaining: 0 null values\n"
     ]
    }
   ],
   "source": [
    "# Replacing null values for Merchstate and Merchzip using Recnum\n",
    "for colname in ['Merchstate', 'Merchzip']: \n",
    "    initialnull = len(df[df[colname]=='nan'])\n",
    "    df[colname] = np.where(df[colname]=='nan', \\\n",
    "                             df['Recnum'], df[colname])\n",
    "    endnull = len(df[df[colname]=='nan'])\n",
    "    print(f'{colname} - initial: {initialnull} null values, replaced: \\\n",
    "    {initialnull-endnull} null values, remaining: {endnull} null values')"
   ]
  },
  {
   "cell_type": "code",
   "execution_count": null,
   "metadata": {
    "id": "ukdOHs_Wt0oD"
   },
   "outputs": [],
   "source": [
    "df.drop(columns=['mode_Merchnum_groupby_Merchdescription', \\\n",
    "                   'mode_Merchnum_groupby_Cardnum', \\\n",
    "                   'mode_Merchstate_groupby_Merchnum', \\\n",
    "                   'mode_Merchzip_groupby_Merchnum'], \\\n",
    "          inplace=True)"
   ]
  },
  {
   "cell_type": "code",
   "execution_count": null,
   "metadata": {
    "colab": {
     "base_uri": "https://localhost:8080/",
     "height": 309
    },
    "executionInfo": {
     "elapsed": 46773,
     "status": "ok",
     "timestamp": 1618897310288,
     "user": {
      "displayName": "Roman Sielewicz",
      "photoUrl": "https://lh3.googleusercontent.com/a-/AOh14GhGSmjztwWC5LeA0gsBixbo4yVXHtIQAhJW_JDJmg=s64",
      "userId": "01884280537581955902"
     },
     "user_tz": 420
    },
    "id": "QE1gqLh2t0oD",
    "outputId": "e7b52390-9062-42a9-e1b4-1111d0358fcb"
   },
   "outputs": [
    {
     "data": {
      "text/html": [
       "<div>\n",
       "<style scoped>\n",
       "    .dataframe tbody tr th:only-of-type {\n",
       "        vertical-align: middle;\n",
       "    }\n",
       "\n",
       "    .dataframe tbody tr th {\n",
       "        vertical-align: top;\n",
       "    }\n",
       "\n",
       "    .dataframe thead th {\n",
       "        text-align: right;\n",
       "    }\n",
       "</style>\n",
       "<table border=\"1\" class=\"dataframe\">\n",
       "  <thead>\n",
       "    <tr style=\"text-align: right;\">\n",
       "      <th></th>\n",
       "      <th>Recnum</th>\n",
       "      <th>Cardnum</th>\n",
       "      <th>Date</th>\n",
       "      <th>Merchnum</th>\n",
       "      <th>Merchdescription</th>\n",
       "      <th>Merchstate</th>\n",
       "      <th>Merchzip</th>\n",
       "      <th>Transtype</th>\n",
       "      <th>Amount</th>\n",
       "      <th>Fraud</th>\n",
       "    </tr>\n",
       "  </thead>\n",
       "  <tbody>\n",
       "    <tr>\n",
       "      <th>0</th>\n",
       "      <td>1</td>\n",
       "      <td>5142190439</td>\n",
       "      <td>2010-01-01</td>\n",
       "      <td>5509006296254</td>\n",
       "      <td>FEDEX SHP 12/23/09 AB#</td>\n",
       "      <td>TN</td>\n",
       "      <td>38118.0</td>\n",
       "      <td>P</td>\n",
       "      <td>3.62</td>\n",
       "      <td>0</td>\n",
       "    </tr>\n",
       "    <tr>\n",
       "      <th>1</th>\n",
       "      <td>2</td>\n",
       "      <td>5142183973</td>\n",
       "      <td>2010-01-01</td>\n",
       "      <td>61003026333</td>\n",
       "      <td>SERVICE MERCHANDISE #81</td>\n",
       "      <td>MA</td>\n",
       "      <td>1803.0</td>\n",
       "      <td>P</td>\n",
       "      <td>31.42</td>\n",
       "      <td>0</td>\n",
       "    </tr>\n",
       "    <tr>\n",
       "      <th>2</th>\n",
       "      <td>3</td>\n",
       "      <td>5142131721</td>\n",
       "      <td>2010-01-01</td>\n",
       "      <td>4503082993600</td>\n",
       "      <td>OFFICE DEPOT #191</td>\n",
       "      <td>MD</td>\n",
       "      <td>20706.0</td>\n",
       "      <td>P</td>\n",
       "      <td>178.49</td>\n",
       "      <td>0</td>\n",
       "    </tr>\n",
       "    <tr>\n",
       "      <th>3</th>\n",
       "      <td>4</td>\n",
       "      <td>5142148452</td>\n",
       "      <td>2010-01-01</td>\n",
       "      <td>5509006296254</td>\n",
       "      <td>FEDEX SHP 12/28/09 AB#</td>\n",
       "      <td>TN</td>\n",
       "      <td>38118.0</td>\n",
       "      <td>P</td>\n",
       "      <td>3.62</td>\n",
       "      <td>0</td>\n",
       "    </tr>\n",
       "    <tr>\n",
       "      <th>4</th>\n",
       "      <td>5</td>\n",
       "      <td>5142190439</td>\n",
       "      <td>2010-01-01</td>\n",
       "      <td>5509006296254</td>\n",
       "      <td>FEDEX SHP 12/23/09 AB#</td>\n",
       "      <td>TN</td>\n",
       "      <td>38118.0</td>\n",
       "      <td>P</td>\n",
       "      <td>3.62</td>\n",
       "      <td>0</td>\n",
       "    </tr>\n",
       "  </tbody>\n",
       "</table>\n",
       "</div>"
      ],
      "text/plain": [
       "   Recnum     Cardnum       Date  ... Transtype  Amount Fraud\n",
       "0       1  5142190439 2010-01-01  ...         P    3.62     0\n",
       "1       2  5142183973 2010-01-01  ...         P   31.42     0\n",
       "2       3  5142131721 2010-01-01  ...         P  178.49     0\n",
       "3       4  5142148452 2010-01-01  ...         P    3.62     0\n",
       "4       5  5142190439 2010-01-01  ...         P    3.62     0\n",
       "\n",
       "[5 rows x 10 columns]"
      ]
     },
     "execution_count": 18,
     "metadata": {
      "tags": []
     },
     "output_type": "execute_result"
    }
   ],
   "source": [
    "df.head()"
   ]
  },
  {
   "cell_type": "code",
   "execution_count": null,
   "metadata": {
    "colab": {
     "base_uri": "https://localhost:8080/"
    },
    "executionInfo": {
     "elapsed": 46766,
     "status": "ok",
     "timestamp": 1618897310289,
     "user": {
      "displayName": "Roman Sielewicz",
      "photoUrl": "https://lh3.googleusercontent.com/a-/AOh14GhGSmjztwWC5LeA0gsBixbo4yVXHtIQAhJW_JDJmg=s64",
      "userId": "01884280537581955902"
     },
     "user_tz": 420
    },
    "id": "7Px81_ast0oD",
    "outputId": "49d4deb2-b866-4242-9e84-d7075fc47076"
   },
   "outputs": [
    {
     "data": {
      "text/plain": [
       "Recnum              0\n",
       "Cardnum             0\n",
       "Date                0\n",
       "Merchnum            0\n",
       "Merchdescription    0\n",
       "Merchstate          0\n",
       "Merchzip            0\n",
       "Transtype           0\n",
       "Amount              0\n",
       "Fraud               0\n",
       "dtype: int64"
      ]
     },
     "execution_count": 19,
     "metadata": {
      "tags": []
     },
     "output_type": "execute_result"
    }
   ],
   "source": [
    "df.isna().sum()"
   ]
  },
  {
   "cell_type": "code",
   "execution_count": null,
   "metadata": {
    "id": "-bxPMVDLx5N8"
   },
   "outputs": [],
   "source": [
    "df.to_csv('card_transactions_clean.csv', index = False)"
   ]
  },
  {
   "cell_type": "code",
   "execution_count": null,
   "metadata": {
    "colab": {
     "base_uri": "https://localhost:8080/"
    },
    "executionInfo": {
     "elapsed": 47781,
     "status": "ok",
     "timestamp": 1618897311314,
     "user": {
      "displayName": "Roman Sielewicz",
      "photoUrl": "https://lh3.googleusercontent.com/a-/AOh14GhGSmjztwWC5LeA0gsBixbo4yVXHtIQAhJW_JDJmg=s64",
      "userId": "01884280537581955902"
     },
     "user_tz": 420
    },
    "id": "tdP2OOYdvFH_",
    "outputId": "70104bc4-1253-428f-8bc8-8f5a5d52b2d3"
   },
   "outputs": [
    {
     "name": "stdout",
     "output_type": "stream",
     "text": [
      "1iraC2IH38ybBVFi1BQQbN6rA2_rVmE7-\n"
     ]
    }
   ],
   "source": [
    "# to export csv to google drive\n",
    "folder_link = 'https://drive.google.com/drive/folders/1iraC2IH38ybBVFi1BQQbN6rA2_rVmE7-'\n",
    "id = folder_link.split('/')[-1] # id: the drive file identifier\n",
    "print(id)"
   ]
  },
  {
   "cell_type": "code",
   "execution_count": null,
   "metadata": {
    "id": "ZPH4OiC6t0oD"
   },
   "outputs": [],
   "source": [
    "# Uploading to Google Drive\n",
    "upload_file = 'card_transactions_clean.csv'\n",
    "gfile = drive.CreateFile({'parents': [{'id': id}]})\n",
    "# Read file and set it as the content of this instance.\n",
    "gfile.SetContentFile(upload_file)\n",
    "gfile.Upload() # Upload the file."
   ]
  },
  {
   "cell_type": "code",
   "execution_count": null,
   "metadata": {
    "colab": {
     "base_uri": "https://localhost:8080/"
    },
    "executionInfo": {
     "elapsed": 49460,
     "status": "ok",
     "timestamp": 1618897313004,
     "user": {
      "displayName": "Roman Sielewicz",
      "photoUrl": "https://lh3.googleusercontent.com/a-/AOh14GhGSmjztwWC5LeA0gsBixbo4yVXHtIQAhJW_JDJmg=s64",
      "userId": "01884280537581955902"
     },
     "user_tz": 420
    },
    "id": "9j2qtDiat0oD",
    "outputId": "60c2ddf8-9fe2-45db-a5fa-206e1218ed59"
   },
   "outputs": [
    {
     "name": "stdout",
     "output_type": "stream",
     "text": [
      "Time elapsed:  0:00:49.304986\n"
     ]
    }
   ],
   "source": [
    "print('Time elapsed: ', dt.datetime.now() - start_time)"
   ]
  }
 ],
 "metadata": {
  "colab": {
   "collapsed_sections": [],
   "name": "project3 part 1.ipynb",
   "provenance": [],
   "toc_visible": true
  },
  "kernelspec": {
   "display_name": "Python 3",
   "language": "python",
   "name": "python3"
  },
  "language_info": {
   "codemirror_mode": {
    "name": "ipython",
    "version": 3
   },
   "file_extension": ".py",
   "mimetype": "text/x-python",
   "name": "python",
   "nbconvert_exporter": "python",
   "pygments_lexer": "ipython3",
   "version": "3.8.8"
  }
 },
 "nbformat": 4,
 "nbformat_minor": 1
}
